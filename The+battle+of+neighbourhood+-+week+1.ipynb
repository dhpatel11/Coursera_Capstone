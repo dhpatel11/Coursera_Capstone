{
 "cells": [
  {
   "cell_type": "markdown",
   "metadata": {},
   "source": [
    "# Battle of the Neighbourhoods - Finding an ideal holiday destination"
   ]
  },
  {
   "cell_type": "markdown",
   "metadata": {},
   "source": [
    "## Project Description:\n",
    "\n",
    "I decided to use this opportunity to analyse and understand which holiday destinations would suit us the best. "
   ]
  },
  {
   "cell_type": "markdown",
   "metadata": {},
   "source": [
    "### Description of the problem:\n",
    "It's difficult to find the holiday spots that my wife and I can agree upon. As expected my wife always has the upper hand. Hopefully with this project I will search potential holiday destinations and score them for desirability based on our requirements. I will be searching for the top 100 attractions from centroid location in a city and assigning each a score. The scoring will be based on two key requirements: \n",
    "1. Has good city centre or what is available near city centre for a good cultural break that I like to have. \n",
    "2. Has a sea-side that my wife likes. "
   ]
  },
  {
   "cell_type": "markdown",
   "metadata": {},
   "source": [
    "### Methodology\n",
    "First we'll identify 3 holiday destination coordinates using Geopy and our original tried and tested holiday destination, Devon, for comparison purposes:"
   ]
  },
  {
   "cell_type": "code",
   "execution_count": 1,
   "metadata": {
    "collapsed": false
   },
   "outputs": [
    {
     "name": "stdout",
     "output_type": "stream",
     "text": [
      "The geograpical coordinate of Devon is 50.75, -3.75.\n"
     ]
    }
   ],
   "source": [
    "from geopy.geocoders import Nominatim # convert an address into latitude and longitude values\n",
    "import warnings\n",
    "warnings.filterwarnings('ignore')\n",
    "address = 'Devon'\n",
    "\n",
    "geolocator = Nominatim()\n",
    "location = geolocator.geocode(address)\n",
    "latitude_x = location.latitude\n",
    "longitude_y = location.longitude\n",
    "print('The geograpical coordinate of {} is {}, {}.'.format(address, latitude_x, longitude_y))\n"
   ]
  },
  {
   "cell_type": "code",
   "execution_count": 2,
   "metadata": {
    "collapsed": true
   },
   "outputs": [],
   "source": [
    "import folium"
   ]
  },
  {
   "cell_type": "code",
   "execution_count": 21,
   "metadata": {
    "collapsed": false
   },
   "outputs": [
    {
     "data": {
      "text/html": [
       "<div style=\"width:100%;\"><div style=\"position:relative;width:100%;height:0;padding-bottom:60%;\"><iframe src=\"data:text/html;charset=utf-8;base64,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\" style=\"position:absolute;width:100%;height:100%;left:0;top:0;border:none !important;\" allowfullscreen webkitallowfullscreen mozallowfullscreen></iframe></div></div>"
      ],
      "text/plain": [
       "<folium.folium.Map at 0x10a544c88>"
      ]
     },
     "execution_count": 21,
     "metadata": {},
     "output_type": "execute_result"
    }
   ],
   "source": [
    "m = folium.Map(\n",
    "    location=[52.3745403, 4.89797550561798],\n",
    "    zoom_start=5,\n",
    "    tiles='Stamen Terrain'\n",
    ")\n",
    "\n",
    "folium.Marker(\n",
    "    location=[55.6867243, 12.5700724],\n",
    "    popup='Copenhagen',\n",
    "    icon=folium.Icon(icon='flag')\n",
    ").add_to(m)\n",
    "\n",
    "folium.Marker(\n",
    "    location=[48.85341, 2.3488],\n",
    "    popup='Paris',\n",
    "    icon=folium.Icon(color='green', icon='flag')\n",
    ").add_to(m)\n",
    "\n",
    "folium.Marker(\n",
    "    location=[52.6843696, -1.8275286],\n",
    "    popup='Home',\n",
    "    icon=folium.Icon(color='red', icon='home')\n",
    ").add_to(m)\n",
    "\n",
    "folium.Marker(\n",
    "    location=[52.3745403, 4.89797550561798],\n",
    "    popup='Amsterdam',\n",
    "    icon=folium.Icon(color='orange', icon='flag')\n",
    ").add_to(m)\n",
    "\n",
    "folium.Marker(\n",
    "    location=[50.75, -3.75],\n",
    "    popup='Devon',\n",
    "    icon=folium.Icon(color='red', icon='heart')\n",
    ").add_to(m)\n",
    "\n",
    "m"
   ]
  },
  {
   "cell_type": "markdown",
   "metadata": {},
   "source": [
    "### Next steps\n",
    "I am going to use these coordinates in a Foursquare query to find venues for determining scores for each of these categories for my wife and me (D and S) and put these into a dataframe. \n",
    "\n",
    "Combine the data from Foursquare and the scores from the family to calculate the desirability of the 4 holiday destinations: Paris, Amsterdam, Copenhagen and Devon (control group). \n",
    "\n",
    "I will then use cluster analysis to ensure that both of us will enjoy the holiday by identifying the holiday destination that provide both sea-side and city break."
   ]
  },
  {
   "cell_type": "code",
   "execution_count": 14,
   "metadata": {
    "collapsed": true
   },
   "outputs": [],
   "source": [
    "# find distinct venues in Paris as sample set\n",
    "# perhaps filter for only hoilday relevant venues\n",
    "# determine scoing from 4 parties \n",
    "# describe calcaultions\n",
    "# plot locations based desirabilities back to map\n",
    "\n",
    "Copenhagen_Coords =[55.6867243, 12.5700724]\n",
    "Paris_Coords=[48.85341, 2.3488]\n",
    "Amsterdam_Coords=[52.3745403, 4.89797550561798]\n",
    "Devon_Coords=[50.725562, -3.5269108]"
   ]
  },
  {
   "cell_type": "markdown",
   "metadata": {},
   "source": [
    "#### Import the libraries we're going to need:\n"
   ]
  },
  {
   "cell_type": "code",
   "execution_count": 15,
   "metadata": {
    "collapsed": true
   },
   "outputs": [],
   "source": [
    "import numpy as np # library to handle data in a vectorized manner\n",
    "import pandas as pd # library for data analsysis\n",
    "import json # library to handle JSON files\n",
    "import requests # library to handle requests\n",
    "from pandas.io.json import json_normalize # tranform JSON file into a pandas dataframe\n",
    "# Matplotlib and associated plotting modules\n",
    "import matplotlib as plt\n",
    "import matplotlib.colors as colors"
   ]
  },
  {
   "cell_type": "code",
   "execution_count": 16,
   "metadata": {
    "collapsed": true
   },
   "outputs": [],
   "source": [
    "#Foursquare credentials \n",
    "CLIENT_ID = 'AGHDNWBAEWYOG5LQQILEJQREDLXZX3L23FY02ZXEY4VRCLTG'\n",
    "CLIENT_SECRET = 'YJA1A1BECET22RATJKSQU014Y0LWHVHOQ433VXZFES1BGSQE'\n",
    "VERSION = '20180605'\n"
   ]
  },
  {
   "cell_type": "markdown",
   "metadata": {},
   "source": [
    "## First challenge - Filtering FourSquare results so that it only brings back results that are relevant\n",
    "\n",
    "https://developer.foursquare.com/docs/api/venues/recommendations : By setting the 'intent' filter, we can only bring back venues of that category: food, breakfast, brunch, lunch, coffee, dinner, dessert, drinks, shopping, fun, sights. Specifies the top-level “intent” for a search.\n",
    "\n",
    "For my holiday activities, I'm going to use 'fun'"
   ]
  },
  {
   "cell_type": "code",
   "execution_count": 17,
   "metadata": {
    "collapsed": true
   },
   "outputs": [],
   "source": [
    "intent = 'fun'\n",
    "radius = 2000\n",
    "LIMIT = 100"
   ]
  },
  {
   "cell_type": "markdown",
   "metadata": {},
   "source": [
    "First we'll define a function to clean up the data received from FourSquare"
   ]
  },
  {
   "cell_type": "code",
   "execution_count": 18,
   "metadata": {
    "collapsed": false
   },
   "outputs": [],
   "source": [
    "def get_category_type(row):\n",
    "    try:\n",
    "        categories_list = row['categories']\n",
    "    except:\n",
    "        categories_list = row['venue.categories']\n",
    "        \n",
    "    if len(categories_list) == 0:\n",
    "        return None\n",
    "    else:\n",
    "        return categories_list[0]['name']"
   ]
  },
  {
   "cell_type": "markdown",
   "metadata": {},
   "source": [
    "Then this function return the required data given a set of coordinates:"
   ]
  },
  {
   "cell_type": "code",
   "execution_count": 20,
   "metadata": {
    "collapsed": true
   },
   "outputs": [],
   "source": [
    "def get_holiday_fun(coords):\n",
    "    url = 'https://api.foursquare.com/v2/venues/explore?&client_id={}&client_secret={}&v={}&ll={},{}&radius={}&limit={}&intent={}'.format(\n",
    "    CLIENT_ID, CLIENT_SECRET, VERSION, coords[0], coords[1], radius, LIMIT,intent)\n",
    "    results = requests.get(url).json()\n",
    "    venues=results['response']['groups'][0]['items']\n",
    "    nearby_venues = json_normalize(venues)\n",
    "    filtered_columns = ['venue.name', 'venue.categories', 'venue.location.lat', 'venue.location.lng']\n",
    "    nearby_venues = nearby_venues.loc[:, filtered_columns]\n",
    "    nearby_venues['venue.categories'] = nearby_venues.apply(get_category_type, axis=1)\n",
    "    nearby_venues.columns = [col.split(\".\")[-1] for col in nearby_venues.columns]\n",
    "    return nearby_venues"
   ]
  },
  {
   "cell_type": "markdown",
   "metadata": {},
   "source": [
    "I'll use my function 4 times to pull the information about 'fun' attractions in the potential holiday destinations"
   ]
  },
  {
   "cell_type": "code",
   "execution_count": 22,
   "metadata": {
    "collapsed": true
   },
   "outputs": [],
   "source": [
    "copenhagen_venues = get_holiday_fun(Copenhagen_Coords)\n",
    "paris_venues = get_holiday_fun(Paris_Coords)\n",
    "amsterdam_venues = get_holiday_fun(Amsterdam_Coords)\n",
    "devon_venues = get_holiday_fun(Devon_Coords)"
   ]
  },
  {
   "cell_type": "markdown",
   "metadata": {},
   "source": [
    "I now need a distinct list of attractions so that I can take these to my audience and ask them which is most important for our holiday. So I combine the datasets into one after having marked each with the city names:"
   ]
  },
  {
   "cell_type": "code",
   "execution_count": 23,
   "metadata": {
    "collapsed": true
   },
   "outputs": [],
   "source": [
    "# Combine Datasets\n",
    "copenhagen_venues['City'] = 'Copenhagen'\n",
    "paris_venues['City'] = 'Paris'\n",
    "amsterdam_venues['City'] = 'Amsterdam'\n",
    "devon_venues['City'] = 'Devon'\n",
    "df = pd.concat([copenhagen_venues, paris_venues,amsterdam_venues,devon_venues])\n",
    "df.columns = ['Name','Categories','Latitude','Longitude','City']"
   ]
  },
  {
   "cell_type": "markdown",
   "metadata": {},
   "source": [
    "Using the .unique() function, I've found each type of attraction and written this to a CSV\n",
    "\n"
   ]
  },
  {
   "cell_type": "code",
   "execution_count": 24,
   "metadata": {
    "collapsed": true
   },
   "outputs": [],
   "source": [
    "categories = df.Categories.unique()\n",
    "\n",
    "dataset = pd.DataFrame({'Categories':categories})\n",
    "\n",
    "dataset.sort_values(by=['Categories'], ascending = True).to_csv(r'categories.csv')"
   ]
  },
  {
   "cell_type": "markdown",
   "metadata": {},
   "source": [
    "I will use the scoring data in week 2 to score the venues and pick up the ideal holiday location for us"
   ]
  },
  {
   "cell_type": "markdown",
   "metadata": {},
   "source": []
  },
  {
   "cell_type": "code",
   "execution_count": null,
   "metadata": {
    "collapsed": true
   },
   "outputs": [],
   "source": []
  }
 ],
 "metadata": {
  "kernelspec": {
   "display_name": "Python 3",
   "language": "python",
   "name": "python3"
  },
  "language_info": {
   "codemirror_mode": {
    "name": "ipython",
    "version": 3
   },
   "file_extension": ".py",
   "mimetype": "text/x-python",
   "name": "python",
   "nbconvert_exporter": "python",
   "pygments_lexer": "ipython3",
   "version": "3.6.0"
  }
 },
 "nbformat": 4,
 "nbformat_minor": 2
}
